{
 "cells": [
  {
   "cell_type": "markdown",
   "id": "ca17b65c-fc0f-4529-9ee9-2a6e5399a5b2",
   "metadata": {},
   "source": [
    "# Language Agent Tree Search\n",
    "\n",
    "LATS (Language Agent Tree Search) by Zhou et al. combines LLM capabilities in planning, acting, and reasoning within a Monte Carlo tree search framework, allowing for deliberate and adaptive problem-solving guided by external feedback and self-reflection.\n",
    "\n",
    "We've implemented this agent as a LlamaPack - you can either pip install it to run it out-of-the-box or call `download_llama_pack` to load the pack."
   ]
  },
  {
   "cell_type": "markdown",
   "id": "91dfcbf6-9dc2-44a2-929d-df994b353031",
   "metadata": {},
   "source": [
    "## Setup"
   ]
  },
  {
   "cell_type": "markdown",
   "id": "57f52355-b01e-4f57-a952-d170f41211c5",
   "metadata": {},
   "source": [
    "#### Option 1. pip install llama-index-packs-lats"
   ]
  },
  {
   "cell_type": "code",
   "execution_count": null,
   "id": "a256034a-637c-42ec-9d34-99282b3877f6",
   "metadata": {},
   "outputs": [],
   "source": [
    "!pip install llama-index-packs-lats"
   ]
  },
  {
   "cell_type": "markdown",
   "id": "f775942f-3cbf-4799-b1ba-b93f51ff5d48",
   "metadata": {
    "tags": []
   },
   "source": [
    "#### Option 2. `download_llama_pack`"
   ]
  },
  {
   "cell_type": "code",
   "execution_count": null,
   "id": "19630411-62d9-4d9a-a5d1-b298ec2ab7e6",
   "metadata": {},
   "outputs": [],
   "source": [
    "from llama_index.core.llama_pack import download_llama_pack\n",
    "\n",
    "LATSPacks = download_llama_pack(\"LATSPack\")"
   ]
  },
  {
   "cell_type": "markdown",
   "id": "24573f4b-0690-43c1-b255-890767ab4c83",
   "metadata": {},
   "source": [
    "### Download Data"
   ]
  },
  {
   "cell_type": "code",
   "execution_count": null,
   "id": "acab086b-0cdf-48f1-9fae-ba67209806ef",
   "metadata": {},
   "outputs": [],
   "source": [
    "!mkdir -p 'data/10k/'\n",
    "!wget 'https://raw.githubusercontent.com/run-llama/llama_index/main/docs/examples/data/10k/uber_2021.pdf' -O 'data/10k/uber_2021.pdf'\n",
    "!wget 'https://raw.githubusercontent.com/run-llama/llama_index/main/docs/examples/data/10k/lyft_2021.pdf' -O 'data/10k/lyft_2021.pdf'"
   ]
  },
  {
   "cell_type": "code",
   "execution_count": null,
   "id": "85776882-364c-4164-9878-c80b7e26628e",
   "metadata": {},
   "outputs": [],
   "source": [
    "if not index_loaded:\n",
    "    # load data\n",
    "    lyft_docs = SimpleDirectoryReader(\n",
    "        input_files=[\"./data/10k/lyft_2021.pdf\"]\n",
    "    ).load_data()\n",
    "    uber_docs = SimpleDirectoryReader(\n",
    "        input_files=[\"./data/10k/uber_2021.pdf\"]\n",
    "    ).load_data()\n",
    "\n",
    "    # build index\n",
    "    lyft_index = VectorStoreIndex.from_documents(lyft_docs)\n",
    "    uber_index = VectorStoreIndex.from_documents(uber_docs)\n",
    "\n",
    "    # persist index\n",
    "    lyft_index.storage_context.persist(persist_dir=\"./storage/lyft\")\n",
    "    uber_index.storage_context.persist(persist_dir=\"./storage/uber\")"
   ]
  },
  {
   "cell_type": "markdown",
   "id": "d1072c4d-d3dd-46fa-91bb-f52dc8c1d93f",
   "metadata": {},
   "source": [
    "### Setup Tools"
   ]
  },
  {
   "cell_type": "code",
   "execution_count": null,
   "id": "b4495859-f04b-4d8e-9dc0-05e7062de335",
   "metadata": {},
   "outputs": [],
   "source": [
    "lyft_engine = lyft_index.as_query_engine(similarity_top_k=3)\n",
    "uber_engine = uber_index.as_query_engine(similarity_top_k=3)"
   ]
  },
  {
   "cell_type": "code",
   "execution_count": null,
   "id": "757645fd-679c-4a92-a2da-66f6dffaee24",
   "metadata": {},
   "outputs": [],
   "source": [
    "query_engine_tools = [\n",
    "    QueryEngineTool(\n",
    "        query_engine=lyft_engine,\n",
    "        metadata=ToolMetadata(\n",
    "            name=\"lyft_10k\",\n",
    "            description=(\n",
    "                \"Provides information about Lyft financials for year 2021. \"\n",
    "                \"Use a detailed plain text question as input to the tool.\"\n",
    "            ),\n",
    "        ),\n",
    "    ),\n",
    "    QueryEngineTool(\n",
    "        query_engine=uber_engine,\n",
    "        metadata=ToolMetadata(\n",
    "            name=\"uber_10k\",\n",
    "            description=(\n",
    "                \"Provides information about Uber financials for year 2021. \"\n",
    "                \"Use a detailed plain text question as input to the tool.\"\n",
    "            ),\n",
    "        ),\n",
    "    ),\n",
    "]"
   ]
  },
  {
   "cell_type": "markdown",
   "id": "bb60646b-d09b-41c4-b799-eaef0b5b8471",
   "metadata": {},
   "source": [
    "## Setup Agent\n",
    "\n",
    "Now we can setup the LATS agent."
   ]
  },
  {
   "cell_type": "code",
   "execution_count": null,
   "id": "c1a09462-0695-43d3-b691-ff2320fdcf45",
   "metadata": {},
   "outputs": [],
   "source": [
    "agent = LATSAgent.from_tools(\n",
    "    query_engine_tools,\n",
    "    llm=llm,\n",
    "    verbose=True,\n",
    ")"
   ]
  },
  {
   "cell_type": "markdown",
   "id": "e97241d1-0917-4e69-87d5-9c46af360cfd",
   "metadata": {},
   "source": [
    "## Run Some Queries"
   ]
  },
  {
   "cell_type": "code",
   "execution_count": null,
   "id": "8d4ebee0-1191-4630-8bdd-58d92721d514",
   "metadata": {},
   "outputs": [],
   "source": []
  }
 ],
 "metadata": {
  "kernelspec": {
   "display_name": "llama_index_v3",
   "language": "python",
   "name": "llama_index_v3"
  },
  "language_info": {
   "codemirror_mode": {
    "name": "ipython",
    "version": 3
   },
   "file_extension": ".py",
   "mimetype": "text/x-python",
   "name": "python",
   "nbconvert_exporter": "python",
   "pygments_lexer": "ipython3",
   "version": "3.10.8"
  }
 },
 "nbformat": 4,
 "nbformat_minor": 5
}
